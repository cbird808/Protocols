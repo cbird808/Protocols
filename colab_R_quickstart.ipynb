{
  "nbformat": 4,
  "nbformat_minor": 0,
  "metadata": {
    "colab": {
      "provenance": [],
      "history_visible": true,
      "authorship_tag": "ABX9TyPS9aLYux3C9o/TL+rJju3u",
      "include_colab_link": true
    },
    "kernelspec": {
      "name": "python3",
      "display_name": "Python 3"
    },
    "language_info": {
      "name": "python"
    }
  },
  "cells": [
    {
      "cell_type": "markdown",
      "metadata": {
        "id": "view-in-github",
        "colab_type": "text"
      },
      "source": [
        "<a href=\"https://colab.research.google.com/github/cbird808/Protocols/blob/master/colab_R_quickstart.ipynb\" target=\"_parent\"><img src=\"https://colab.research.google.com/assets/colab-badge.svg\" alt=\"Open In Colab\"/></a>"
      ]
    },
    {
      "cell_type": "markdown",
      "source": [
        "# R in Google Colab Quick Start\n",
        "\n",
        "Here’s how you can get up and running with R inside a Google Colab notebook:\n",
        "\n",
        "---"
      ],
      "metadata": {
        "id": "OM9VVzUXhJ2e"
      }
    },
    {
      "cell_type": "markdown",
      "source": [
        "## Create a new Colab notebook\n",
        "\n",
        "Go to https://colab.research.google.com and click File → New notebook.\n",
        "\n",
        "---"
      ],
      "metadata": {
        "id": "MDS1j41QjGb5"
      }
    },
    {
      "cell_type": "markdown",
      "source": [
        "## Install R and the Python ↔ R bridge\n",
        "   In the first code cell, install R itself (via apt) and the rpy2 package (which provides the %%R magic):"
      ],
      "metadata": {
        "id": "eeuCwNmCi9tR"
      }
    },
    {
      "cell_type": "code",
      "execution_count": 1,
      "metadata": {
        "colab": {
          "base_uri": "https://localhost:8080/"
        },
        "id": "lqWbE3emgbOR",
        "outputId": "595f7ff2-ba52-4274-c54c-b9a16d62b1bc"
      },
      "outputs": [
        {
          "output_type": "stream",
          "name": "stdout",
          "text": [
            "W: Skipping acquire of configured file 'main/source/Sources' as repository 'https://r2u.stat.illinois.edu/ubuntu jammy InRelease' does not seem to provide it (sources.list entry misspelt?)\n",
            "Reading package lists... Done\n",
            "Building dependency tree... Done\n",
            "Reading state information... Done\n",
            "r-base is already the newest version (4.5.0-2.2204.0).\n",
            "0 upgraded, 0 newly installed, 0 to remove and 37 not upgraded.\n"
          ]
        }
      ],
      "source": [
        "!apt-get update -qq\n",
        "!apt-get install -y r-base\n",
        "!pip install -q rpy2\n"
      ]
    },
    {
      "cell_type": "markdown",
      "source": [
        "---\n",
        "\n",
        "## Enable the R magic\n",
        "In the next cell, load the IPython extension so you can write R directly:"
      ],
      "metadata": {
        "id": "n9gCVTp7hJH5"
      }
    },
    {
      "cell_type": "markdown",
      "source": [],
      "metadata": {
        "id": "uzeFRaqYg1IB"
      }
    },
    {
      "cell_type": "code",
      "source": [],
      "metadata": {
        "id": "aI7XGghfitVH"
      },
      "execution_count": 1,
      "outputs": []
    },
    {
      "cell_type": "code",
      "source": [
        "%load_ext rpy2.ipython"
      ],
      "metadata": {
        "id": "1V-6vNGFhhVV"
      },
      "execution_count": 2,
      "outputs": []
    },
    {
      "cell_type": "markdown",
      "source": [
        "---\n",
        "\n",
        "## Run R code cells\n",
        "Now any cell that begins with %%R will be interpreted as R. For example:"
      ],
      "metadata": {
        "id": "Z8Q7E6fehpAq"
      }
    },
    {
      "cell_type": "code",
      "source": [
        "%%R\n",
        "# Basic R example\n",
        "x <- rnorm(100)\n",
        "summary(x)\n"
      ],
      "metadata": {
        "colab": {
          "base_uri": "https://localhost:8080/"
        },
        "id": "Nss8PFSDhZkG",
        "outputId": "fa9d99fa-0bc9-4b67-d3e4-fdc717f755b1"
      },
      "execution_count": 3,
      "outputs": [
        {
          "output_type": "stream",
          "name": "stdout",
          "text": [
            "    Min.  1st Qu.   Median     Mean  3rd Qu.     Max. \n",
            "-2.87251 -0.46328  0.09623  0.08994  0.65662  2.38292 \n"
          ]
        }
      ]
    },
    {
      "cell_type": "markdown",
      "source": [
        "---\n",
        "\n",
        "## Install CRAN Packages\n",
        "\n",
        "Installing packages is quick and easy."
      ],
      "metadata": {
        "id": "fbC9vk8WjdxX"
      }
    },
    {
      "cell_type": "code",
      "source": [
        "%%R\n",
        "# Install and load packages\n",
        "install.packages(\"tidyverse\", repos=\"https://cloud.r-project.org\")\n",
        "library(tidyverse)\n"
      ],
      "metadata": {
        "colab": {
          "base_uri": "https://localhost:8080/",
          "height": 394
        },
        "id": "UgWwGawGh5GR",
        "outputId": "14787b0f-56e0-4afc-bf4a-8809083096a0"
      },
      "execution_count": 4,
      "outputs": [
        {
          "output_type": "stream",
          "name": "stdout",
          "text": [
            "── Attaching core tidyverse packages ──────────────────────── tidyverse 2.0.0 ──\n",
            "✔ dplyr     1.1.4     ✔ readr     2.1.5\n",
            "✔ forcats   1.0.0     ✔ stringr   1.5.1\n",
            "✔ ggplot2   3.5.2     ✔ tibble    3.2.1\n",
            "✔ lubridate 1.9.4     ✔ tidyr     1.3.1\n",
            "✔ purrr     1.0.4     \n",
            "── Conflicts ────────────────────────────────────────── tidyverse_conflicts() ──\n",
            "✖ dplyr::filter() masks stats::filter()\n",
            "✖ dplyr::lag()    masks stats::lag()\n",
            "ℹ Use the conflicted package (<http://conflicted.r-lib.org/>) to force all conflicts to become errors\n"
          ]
        },
        {
          "output_type": "display_data",
          "data": {
            "text/plain": [
              "Installing package into ‘/usr/local/lib/R/site-library’\n",
              "(as ‘lib’ is unspecified)\n",
              "trying URL 'https://cloud.r-project.org/src/contrib/tidyverse_2.0.0.tar.gz'\n",
              "Content type 'application/x-gzip' length 704618 bytes (688 KB)\n",
              "==================================================\n",
              "downloaded 688 KB\n",
              "\n",
              "\n",
              "The downloaded source packages are in\n",
              "\t‘/tmp/Rtmp213HUM/downloaded_packages’\n"
            ]
          },
          "metadata": {}
        }
      ]
    },
    {
      "cell_type": "markdown",
      "source": [
        "---\n",
        "\n",
        "## Install Packages from GitHub\n"
      ],
      "metadata": {
        "id": "RbVI43DtnW28"
      }
    },
    {
      "cell_type": "code",
      "source": [
        "%%R\n",
        "# 1. Install a package from GitHub using remotes\n",
        "install.packages(\"remotes\")\n",
        "library(remotes)\n",
        "\n",
        "# Example: install the 'vegan' package directly from its GitHub repo\n",
        "remotes::install_github(\"vegandevs/vegan\")\n",
        "\n",
        "# Load\n",
        "library(vegan)"
      ],
      "metadata": {
        "id": "tGX7Ehnum488",
        "outputId": "e9b7ae42-a1ba-4f72-8dd1-ed455abe1829",
        "colab": {
          "base_uri": "https://localhost:8080/",
          "height": 1000
        }
      },
      "execution_count": 5,
      "outputs": [
        {
          "output_type": "stream",
          "name": "stdout",
          "text": [
            "── R CMD build ─────────────────────────────────────────────────────────────────\n",
            "* checking for file ‘/tmp/Rtmp213HUM/remotesfb617f5c11/r-lib-cli-6b5ea75/DESCRIPTION’ ... OK\n",
            "* preparing ‘cli’:\n",
            "* checking DESCRIPTION meta-information ... OK\n",
            "* cleaning src\n",
            "* checking for LF line-endings in source and make files and shell scripts\n",
            "* checking for empty or unneeded directories\n",
            "* looking to see if a ‘data/datalist’ file should be added\n",
            "* building ‘cli_3.6.5.9000.tar.gz’\n",
            "\n",
            "Installing package into ‘/usr/local/lib/R/site-library’\n",
            "(as ‘lib’ is unspecified)\n",
            "trying URL 'https://cloud.r-project.org/src/contrib/remotes_2.5.0.tar.gz'\n",
            "Content type 'application/x-gzip' length 164496 bytes (160 KB)\n",
            "==================================================\n",
            "downloaded 160 KB\n",
            "\n",
            "\n",
            "The downloaded source packages are in\n",
            "\t‘/tmp/Rtmp213HUM/downloaded_packages’\n",
            "Downloading GitHub repo r-lib/cli@HEAD\n",
            "Installing package into ‘/usr/local/lib/R/site-library’\n",
            "(as ‘lib’ is unspecified)\n",
            "Error in value[[3L]](cond) : \n",
            "  Package ‘cli’ version 3.6.4 cannot be unloaded:\n",
            " Error in unloadNamespace(package) : namespace ‘cli’ is imported by ‘purrr’, ‘pillar’ so cannot be unloaded\n"
          ]
        },
        {
          "output_type": "error",
          "ename": "RInterpreterError",
          "evalue": "Failed to parse and evaluate line '# 1. Install a package from GitHub using remotes\\ninstall.packages(\"remotes\", repos=\"https://cloud.r-project.org\")\\nlibrary(remotes)\\n\\n# Example: install the \\'cli\\' package directly from its GitHub repo\\nremotes::install_github(\"r-lib/cli\")\\n\\n# Verify\\nlibrary(cli)\\ncli::cli_alert_success(\"cli loaded, version {.pkg_version cli::cli_version()}\")\\n'.\nR error message: 'Error in value[[3L]](cond) : \\n  Package ‘cli’ version 3.6.4 cannot be unloaded:\\n Error in unloadNamespace(package) : namespace ‘cli’ is imported by ‘purrr’, ‘pillar’ so cannot be unloaded'\nR stdout:\nInstalling package into ‘/usr/local/lib/R/site-library’\n(as ‘lib’ is unspecified)\ntrying URL 'https://cloud.r-project.org/src/contrib/remotes_2.5.0.tar.gz'\nContent type 'application/x-gzip' length 164496 bytes (160 KB)\n==================================================\ndownloaded 160 KB\n\n\nThe downloaded source packages are in\n\t‘/tmp/Rtmp213HUM/downloaded_packages’\nDownloading GitHub repo r-lib/cli@HEAD\nInstalling package into ‘/usr/local/lib/R/site-library’\n(as ‘lib’ is unspecified)\nError in value[[3L]](cond) : \n  Package ‘cli’ version 3.6.4 cannot be unloaded:\n Error in unloadNamespace(package) : namespace ‘cli’ is imported by ‘purrr’, ‘pillar’ so cannot be unloaded",
          "traceback": [
            "\u001b[0;31m---------------------------------------------------------------------------\u001b[0m",
            "\u001b[0;31mRRuntimeError\u001b[0m                             Traceback (most recent call last)",
            "\u001b[0;32m/usr/local/lib/python3.11/dist-packages/rpy2/ipython/rmagic.py\u001b[0m in \u001b[0;36meval\u001b[0;34m(self, code)\u001b[0m\n\u001b[1;32m    406\u001b[0m                 \u001b[0mr_expr\u001b[0m \u001b[0;34m=\u001b[0m \u001b[0mri\u001b[0m\u001b[0;34m.\u001b[0m\u001b[0mparse\u001b[0m\u001b[0;34m(\u001b[0m\u001b[0mcode\u001b[0m\u001b[0;34m)\u001b[0m\u001b[0;34m\u001b[0m\u001b[0;34m\u001b[0m\u001b[0m\n\u001b[0;32m--> 407\u001b[0;31m                 value, visible = ri.evalr_expr_with_visible(\n\u001b[0m\u001b[1;32m    408\u001b[0m                     \u001b[0mr_expr\u001b[0m\u001b[0;34m\u001b[0m\u001b[0;34m\u001b[0m\u001b[0m\n",
            "\u001b[0;32m/usr/local/lib/python3.11/dist-packages/rpy2/rinterface.py\u001b[0m in \u001b[0;36mevalr_expr_with_visible\u001b[0;34m(expr, envir)\u001b[0m\n\u001b[1;32m    193\u001b[0m         \u001b[0;32mif\u001b[0m \u001b[0merror_occured\u001b[0m\u001b[0;34m[\u001b[0m\u001b[0;36m0\u001b[0m\u001b[0;34m]\u001b[0m\u001b[0;34m:\u001b[0m\u001b[0;34m\u001b[0m\u001b[0;34m\u001b[0m\u001b[0m\n\u001b[0;32m--> 194\u001b[0;31m             \u001b[0;32mraise\u001b[0m \u001b[0membedded\u001b[0m\u001b[0;34m.\u001b[0m\u001b[0mRRuntimeError\u001b[0m\u001b[0;34m(\u001b[0m\u001b[0m_rinterface\u001b[0m\u001b[0;34m.\u001b[0m\u001b[0m_geterrmessage\u001b[0m\u001b[0;34m(\u001b[0m\u001b[0;34m)\u001b[0m\u001b[0;34m)\u001b[0m\u001b[0;34m\u001b[0m\u001b[0;34m\u001b[0m\u001b[0m\n\u001b[0m\u001b[1;32m    195\u001b[0m         \u001b[0mres\u001b[0m \u001b[0;34m=\u001b[0m \u001b[0mconversion\u001b[0m\u001b[0;34m.\u001b[0m\u001b[0m_cdata_to_rinterface\u001b[0m\u001b[0;34m(\u001b[0m\u001b[0mr_res\u001b[0m\u001b[0;34m)\u001b[0m\u001b[0;34m\u001b[0m\u001b[0;34m\u001b[0m\u001b[0m\n",
            "\u001b[0;31mRRuntimeError\u001b[0m: Error in value[[3L]](cond) : \n  Package ‘cli’ version 3.6.4 cannot be unloaded:\n Error in unloadNamespace(package) : namespace ‘cli’ is imported by ‘purrr’, ‘pillar’ so cannot be unloaded\n",
            "\nDuring handling of the above exception, another exception occurred:\n",
            "\u001b[0;31mRInterpreterError\u001b[0m                         Traceback (most recent call last)",
            "\u001b[0;32m<ipython-input-5-1f1ff64c15dd>\u001b[0m in \u001b[0;36m<cell line: 0>\u001b[0;34m()\u001b[0m\n\u001b[0;32m----> 1\u001b[0;31m \u001b[0mget_ipython\u001b[0m\u001b[0;34m(\u001b[0m\u001b[0;34m)\u001b[0m\u001b[0;34m.\u001b[0m\u001b[0mrun_cell_magic\u001b[0m\u001b[0;34m(\u001b[0m\u001b[0;34m'R'\u001b[0m\u001b[0;34m,\u001b[0m \u001b[0;34m''\u001b[0m\u001b[0;34m,\u001b[0m \u001b[0;34m'# 1. Install a package from GitHub using remotes\\ninstall.packages(\"remotes\", repos=\"https://cloud.r-project.org\")\\nlibrary(remotes)\\n\\n# Example: install the \\'cli\\' package directly from its GitHub repo\\nremotes::install_github(\"r-lib/cli\")\\n\\n# Verify\\nlibrary(cli)\\ncli::cli_alert_success(\"cli loaded, version {.pkg_version cli::cli_version()}\")\\n'\u001b[0m\u001b[0;34m)\u001b[0m\u001b[0;34m\u001b[0m\u001b[0;34m\u001b[0m\u001b[0m\n\u001b[0m",
            "\u001b[0;32m/usr/local/lib/python3.11/dist-packages/google/colab/_shell.py\u001b[0m in \u001b[0;36mrun_cell_magic\u001b[0;34m(self, magic_name, line, cell)\u001b[0m\n\u001b[1;32m    356\u001b[0m     \u001b[0;32mif\u001b[0m \u001b[0mline\u001b[0m \u001b[0;32mand\u001b[0m \u001b[0;32mnot\u001b[0m \u001b[0mcell\u001b[0m\u001b[0;34m:\u001b[0m\u001b[0;34m\u001b[0m\u001b[0;34m\u001b[0m\u001b[0m\n\u001b[1;32m    357\u001b[0m       \u001b[0mcell\u001b[0m \u001b[0;34m=\u001b[0m \u001b[0;34m' '\u001b[0m\u001b[0;34m\u001b[0m\u001b[0;34m\u001b[0m\u001b[0m\n\u001b[0;32m--> 358\u001b[0;31m     \u001b[0;32mreturn\u001b[0m \u001b[0msuper\u001b[0m\u001b[0;34m(\u001b[0m\u001b[0;34m)\u001b[0m\u001b[0;34m.\u001b[0m\u001b[0mrun_cell_magic\u001b[0m\u001b[0;34m(\u001b[0m\u001b[0mmagic_name\u001b[0m\u001b[0;34m,\u001b[0m \u001b[0mline\u001b[0m\u001b[0;34m,\u001b[0m \u001b[0mcell\u001b[0m\u001b[0;34m)\u001b[0m\u001b[0;34m\u001b[0m\u001b[0;34m\u001b[0m\u001b[0m\n\u001b[0m\u001b[1;32m    359\u001b[0m \u001b[0;34m\u001b[0m\u001b[0m\n\u001b[1;32m    360\u001b[0m \u001b[0;34m\u001b[0m\u001b[0m\n",
            "\u001b[0;32m/usr/local/lib/python3.11/dist-packages/IPython/core/interactiveshell.py\u001b[0m in \u001b[0;36mrun_cell_magic\u001b[0;34m(self, magic_name, line, cell)\u001b[0m\n\u001b[1;32m   2471\u001b[0m             \u001b[0;32mwith\u001b[0m \u001b[0mself\u001b[0m\u001b[0;34m.\u001b[0m\u001b[0mbuiltin_trap\u001b[0m\u001b[0;34m:\u001b[0m\u001b[0;34m\u001b[0m\u001b[0;34m\u001b[0m\u001b[0m\n\u001b[1;32m   2472\u001b[0m                 \u001b[0margs\u001b[0m \u001b[0;34m=\u001b[0m \u001b[0;34m(\u001b[0m\u001b[0mmagic_arg_s\u001b[0m\u001b[0;34m,\u001b[0m \u001b[0mcell\u001b[0m\u001b[0;34m)\u001b[0m\u001b[0;34m\u001b[0m\u001b[0;34m\u001b[0m\u001b[0m\n\u001b[0;32m-> 2473\u001b[0;31m                 \u001b[0mresult\u001b[0m \u001b[0;34m=\u001b[0m \u001b[0mfn\u001b[0m\u001b[0;34m(\u001b[0m\u001b[0;34m*\u001b[0m\u001b[0margs\u001b[0m\u001b[0;34m,\u001b[0m \u001b[0;34m**\u001b[0m\u001b[0mkwargs\u001b[0m\u001b[0;34m)\u001b[0m\u001b[0;34m\u001b[0m\u001b[0;34m\u001b[0m\u001b[0m\n\u001b[0m\u001b[1;32m   2474\u001b[0m             \u001b[0;32mreturn\u001b[0m \u001b[0mresult\u001b[0m\u001b[0;34m\u001b[0m\u001b[0;34m\u001b[0m\u001b[0m\n\u001b[1;32m   2475\u001b[0m \u001b[0;34m\u001b[0m\u001b[0m\n",
            "\u001b[0;32m<decorator-gen-123>\u001b[0m in \u001b[0;36mR\u001b[0;34m(self, line, cell, local_ns)\u001b[0m\n",
            "\u001b[0;32m/usr/local/lib/python3.11/dist-packages/IPython/core/magic.py\u001b[0m in \u001b[0;36m<lambda>\u001b[0;34m(f, *a, **k)\u001b[0m\n\u001b[1;32m    185\u001b[0m     \u001b[0;31m# but it's overkill for just that one bit of state.\u001b[0m\u001b[0;34m\u001b[0m\u001b[0;34m\u001b[0m\u001b[0m\n\u001b[1;32m    186\u001b[0m     \u001b[0;32mdef\u001b[0m \u001b[0mmagic_deco\u001b[0m\u001b[0;34m(\u001b[0m\u001b[0marg\u001b[0m\u001b[0;34m)\u001b[0m\u001b[0;34m:\u001b[0m\u001b[0;34m\u001b[0m\u001b[0;34m\u001b[0m\u001b[0m\n\u001b[0;32m--> 187\u001b[0;31m         \u001b[0mcall\u001b[0m \u001b[0;34m=\u001b[0m \u001b[0;32mlambda\u001b[0m \u001b[0mf\u001b[0m\u001b[0;34m,\u001b[0m \u001b[0;34m*\u001b[0m\u001b[0ma\u001b[0m\u001b[0;34m,\u001b[0m \u001b[0;34m**\u001b[0m\u001b[0mk\u001b[0m\u001b[0;34m:\u001b[0m \u001b[0mf\u001b[0m\u001b[0;34m(\u001b[0m\u001b[0;34m*\u001b[0m\u001b[0ma\u001b[0m\u001b[0;34m,\u001b[0m \u001b[0;34m**\u001b[0m\u001b[0mk\u001b[0m\u001b[0;34m)\u001b[0m\u001b[0;34m\u001b[0m\u001b[0;34m\u001b[0m\u001b[0m\n\u001b[0m\u001b[1;32m    188\u001b[0m \u001b[0;34m\u001b[0m\u001b[0m\n\u001b[1;32m    189\u001b[0m         \u001b[0;32mif\u001b[0m \u001b[0mcallable\u001b[0m\u001b[0;34m(\u001b[0m\u001b[0marg\u001b[0m\u001b[0;34m)\u001b[0m\u001b[0;34m:\u001b[0m\u001b[0;34m\u001b[0m\u001b[0;34m\u001b[0m\u001b[0m\n",
            "\u001b[0;32m/usr/local/lib/python3.11/dist-packages/rpy2/ipython/rmagic.py\u001b[0m in \u001b[0;36mR\u001b[0;34m(self, line, cell, local_ns)\u001b[0m\n\u001b[1;32m    982\u001b[0m             \u001b[0;32mif\u001b[0m \u001b[0;32mnot\u001b[0m \u001b[0me\u001b[0m\u001b[0;34m.\u001b[0m\u001b[0mstdout\u001b[0m\u001b[0;34m.\u001b[0m\u001b[0mendswith\u001b[0m\u001b[0;34m(\u001b[0m\u001b[0me\u001b[0m\u001b[0;34m.\u001b[0m\u001b[0merr\u001b[0m\u001b[0;34m)\u001b[0m\u001b[0;34m:\u001b[0m\u001b[0;34m\u001b[0m\u001b[0;34m\u001b[0m\u001b[0m\n\u001b[1;32m    983\u001b[0m                 \u001b[0mprint\u001b[0m\u001b[0;34m(\u001b[0m\u001b[0me\u001b[0m\u001b[0;34m.\u001b[0m\u001b[0merr\u001b[0m\u001b[0;34m)\u001b[0m\u001b[0;34m\u001b[0m\u001b[0;34m\u001b[0m\u001b[0m\n\u001b[0;32m--> 984\u001b[0;31m             \u001b[0;32mraise\u001b[0m \u001b[0me\u001b[0m\u001b[0;34m\u001b[0m\u001b[0;34m\u001b[0m\u001b[0m\n\u001b[0m\u001b[1;32m    985\u001b[0m         \u001b[0;32mfinally\u001b[0m\u001b[0;34m:\u001b[0m\u001b[0;34m\u001b[0m\u001b[0;34m\u001b[0m\u001b[0m\n\u001b[1;32m    986\u001b[0m             \u001b[0;32mif\u001b[0m \u001b[0mself\u001b[0m\u001b[0;34m.\u001b[0m\u001b[0mdevice\u001b[0m \u001b[0;32min\u001b[0m \u001b[0mDEVICES_STATIC\u001b[0m\u001b[0;34m:\u001b[0m\u001b[0;34m\u001b[0m\u001b[0;34m\u001b[0m\u001b[0m\n",
            "\u001b[0;32m/usr/local/lib/python3.11/dist-packages/rpy2/ipython/rmagic.py\u001b[0m in \u001b[0;36mR\u001b[0;34m(self, line, cell, local_ns)\u001b[0m\n\u001b[1;32m    947\u001b[0m                     \u001b[0mreturn_output\u001b[0m \u001b[0;34m=\u001b[0m \u001b[0;32mFalse\u001b[0m\u001b[0;34m\u001b[0m\u001b[0;34m\u001b[0m\u001b[0m\n\u001b[1;32m    948\u001b[0m             \u001b[0;32melse\u001b[0m\u001b[0;34m:\u001b[0m\u001b[0;34m\u001b[0m\u001b[0;34m\u001b[0m\u001b[0m\n\u001b[0;32m--> 949\u001b[0;31m                 \u001b[0mtext_result\u001b[0m\u001b[0;34m,\u001b[0m \u001b[0mresult\u001b[0m\u001b[0;34m,\u001b[0m \u001b[0mvisible\u001b[0m \u001b[0;34m=\u001b[0m \u001b[0mself\u001b[0m\u001b[0;34m.\u001b[0m\u001b[0meval\u001b[0m\u001b[0;34m(\u001b[0m\u001b[0mcode\u001b[0m\u001b[0;34m)\u001b[0m\u001b[0;34m\u001b[0m\u001b[0;34m\u001b[0m\u001b[0m\n\u001b[0m\u001b[1;32m    950\u001b[0m                 \u001b[0mtext_output\u001b[0m \u001b[0;34m+=\u001b[0m \u001b[0mtext_result\u001b[0m\u001b[0;34m\u001b[0m\u001b[0;34m\u001b[0m\u001b[0m\n\u001b[1;32m    951\u001b[0m                 \u001b[0;32mif\u001b[0m \u001b[0mvisible\u001b[0m\u001b[0;34m:\u001b[0m\u001b[0;34m\u001b[0m\u001b[0;34m\u001b[0m\u001b[0m\n",
            "\u001b[0;32m/usr/local/lib/python3.11/dist-packages/rpy2/ipython/rmagic.py\u001b[0m in \u001b[0;36meval\u001b[0;34m(self, code)\u001b[0m\n\u001b[1;32m    411\u001b[0m                 \u001b[0;31m# Otherwise next return seems to have copy of error.\u001b[0m\u001b[0;34m\u001b[0m\u001b[0;34m\u001b[0m\u001b[0m\n\u001b[1;32m    412\u001b[0m                 \u001b[0mwarning_or_other_msg\u001b[0m \u001b[0;34m=\u001b[0m \u001b[0mself\u001b[0m\u001b[0;34m.\u001b[0m\u001b[0mflush\u001b[0m\u001b[0;34m(\u001b[0m\u001b[0;34m)\u001b[0m\u001b[0;34m\u001b[0m\u001b[0;34m\u001b[0m\u001b[0m\n\u001b[0;32m--> 413\u001b[0;31m                 raise RInterpreterError(code, str(exception),\n\u001b[0m\u001b[1;32m    414\u001b[0m                                         warning_or_other_msg)\n\u001b[1;32m    415\u001b[0m             \u001b[0;32mfinally\u001b[0m\u001b[0;34m:\u001b[0m\u001b[0;34m\u001b[0m\u001b[0;34m\u001b[0m\u001b[0m\n",
            "\u001b[0;31mRInterpreterError\u001b[0m: Failed to parse and evaluate line '# 1. Install a package from GitHub using remotes\\ninstall.packages(\"remotes\", repos=\"https://cloud.r-project.org\")\\nlibrary(remotes)\\n\\n# Example: install the \\'cli\\' package directly from its GitHub repo\\nremotes::install_github(\"r-lib/cli\")\\n\\n# Verify\\nlibrary(cli)\\ncli::cli_alert_success(\"cli loaded, version {.pkg_version cli::cli_version()}\")\\n'.\nR error message: 'Error in value[[3L]](cond) : \\n  Package ‘cli’ version 3.6.4 cannot be unloaded:\\n Error in unloadNamespace(package) : namespace ‘cli’ is imported by ‘purrr’, ‘pillar’ so cannot be unloaded'\nR stdout:\nInstalling package into ‘/usr/local/lib/R/site-library’\n(as ‘lib’ is unspecified)\ntrying URL 'https://cloud.r-project.org/src/contrib/remotes_2.5.0.tar.gz'\nContent type 'application/x-gzip' length 164496 bytes (160 KB)\n==================================================\ndownloaded 160 KB\n\n\nThe downloaded source packages are in\n\t‘/tmp/Rtmp213HUM/downloaded_packages’\nDownloading GitHub repo r-lib/cli@HEAD\nInstalling package into ‘/usr/local/lib/R/site-library’\n(as ‘lib’ is unspecified)\nError in value[[3L]](cond) : \n  Package ‘cli’ version 3.6.4 cannot be unloaded:\n Error in unloadNamespace(package) : namespace ‘cli’ is imported by ‘purrr’, ‘pillar’ so cannot be unloaded"
          ]
        }
      ]
    },
    {
      "cell_type": "markdown",
      "source": [
        "---\n",
        "\n",
        "## Install Packages from Bioconductor"
      ],
      "metadata": {
        "id": "cbpaZct2nnRa"
      }
    },
    {
      "cell_type": "code",
      "source": [
        "%%R\n",
        "# 2. Install a package from Bioconductor using BiocManager\n",
        "install.packages(\"BiocManager\", repos=\"https://cloud.r-project.org\")\n",
        "library(BiocManager)\n",
        "\n",
        "# Example: install the 'GenomicFeatures' Bioconductor package\n",
        "BiocManager::install(\"GenomicFeatures\")\n",
        "\n",
        "# Verify\n",
        "library(GenomicFeatures)\n",
        "message(\"GenomicFeatures loaded; available functions include: \",\n",
        "        paste(head(ls(\"package:GenomicFeatures\")), collapse=\", \"))\n"
      ],
      "metadata": {
        "id": "O1r--YRAnQGM",
        "outputId": "80da266f-4c79-4577-9536-73250a9089e3",
        "colab": {
          "base_uri": "https://localhost:8080/"
        }
      },
      "execution_count": null,
      "outputs": [
        {
          "output_type": "stream",
          "name": "stdout",
          "text": [
            "Update all/some/none? [a/s/n]: "
          ]
        }
      ]
    },
    {
      "cell_type": "markdown",
      "source": [
        "---\n",
        "\n",
        "## Pass data between Python and R\n",
        "You can send Python variables into R and bring results back. For example:\n",
        "\n"
      ],
      "metadata": {
        "id": "Z4ln5LjOh6f7"
      }
    },
    {
      "cell_type": "code",
      "source": [
        "import numpy as np\n",
        "data = np.random.randn(50)"
      ],
      "metadata": {
        "id": "gBsO6jZ5jqqw"
      },
      "execution_count": null,
      "outputs": []
    },
    {
      "cell_type": "code",
      "source": [
        "%%R -i data -o mean_data\n",
        "# '-i data' imports the Python variable `data`\n",
        "# '-o mean_data' outputs the R variable `mean_data` to Python\n",
        "mean_data <- mean(data)\n"
      ],
      "metadata": {
        "id": "Q-1j7FLhjviI"
      },
      "execution_count": null,
      "outputs": []
    },
    {
      "cell_type": "code",
      "source": [
        "print(\"Mean computed in R and output to Python:\", mean_data)"
      ],
      "metadata": {
        "colab": {
          "base_uri": "https://localhost:8080/"
        },
        "id": "ObGGDjrZj62J",
        "outputId": "820c8882-2de1-4f10-9884-295b05cca2cb"
      },
      "execution_count": null,
      "outputs": [
        {
          "output_type": "stream",
          "name": "stdout",
          "text": [
            "Mean computed in R and output to Python: [0.11080092]\n"
          ]
        }
      ]
    },
    {
      "cell_type": "markdown",
      "source": [
        "---\n",
        "\n",
        "## Alternative: Run pure R scripts in `bash`\n",
        "If you prefer a “bash + Rscript” approach, you can also do:"
      ],
      "metadata": {
        "id": "HkUlNHhUh427"
      }
    },
    {
      "cell_type": "code",
      "source": [
        "%%bash\n",
        "Rscript -e \"print(summary(rnorm(100)))\""
      ],
      "metadata": {
        "colab": {
          "base_uri": "https://localhost:8080/"
        },
        "id": "1jW9mD9gkeLe",
        "outputId": "e5859f48-fe62-4331-825f-d37cfaa573c7"
      },
      "execution_count": null,
      "outputs": [
        {
          "output_type": "stream",
          "name": "stdout",
          "text": [
            "    Min.  1st Qu.   Median     Mean  3rd Qu.     Max. \n",
            "-3.09252 -0.61398  0.04701 -0.03456  0.55383  2.89603 \n"
          ]
        }
      ]
    },
    {
      "cell_type": "markdown",
      "source": [],
      "metadata": {
        "id": "jXvR_o-biEA_"
      }
    },
    {
      "cell_type": "code",
      "source": [],
      "metadata": {
        "id": "6kZvDqsMiDfd"
      },
      "execution_count": null,
      "outputs": []
    }
  ]
}