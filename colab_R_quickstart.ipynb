{
  "nbformat": 4,
  "nbformat_minor": 0,
  "metadata": {
    "colab": {
      "provenance": [],
      "authorship_tag": "ABX9TyNRoQIXIXB4w+0FhnM+yCCu",
      "include_colab_link": true
    },
    "kernelspec": {
      "name": "python3",
      "display_name": "Python 3"
    },
    "language_info": {
      "name": "python"
    }
  },
  "cells": [
    {
      "cell_type": "markdown",
      "metadata": {
        "id": "view-in-github",
        "colab_type": "text"
      },
      "source": [
        "<a href=\"https://colab.research.google.com/github/cbird808/Protocols/blob/master/colab_R_quickstart.ipynb\" target=\"_parent\"><img src=\"https://colab.research.google.com/assets/colab-badge.svg\" alt=\"Open In Colab\"/></a>"
      ]
    },
    {
      "cell_type": "markdown",
      "source": [
        "# R in Google Colab Quick Start\n",
        "\n",
        "Here’s how you can get up and running with R inside a Google Colab notebook:"
      ],
      "metadata": {
        "id": "OM9VVzUXhJ2e"
      }
    },
    {
      "cell_type": "markdown",
      "source": [
        "## Create a new Colab notebook\n",
        "\n",
        "Go to https://colab.research.google.com and click File → New notebook."
      ],
      "metadata": {
        "id": "MDS1j41QjGb5"
      }
    },
    {
      "cell_type": "markdown",
      "source": [
        "## Install R and the Python ↔ R bridge\n",
        "   In the first code cell, install R itself (via apt) and the rpy2 package (which provides the %%R magic):"
      ],
      "metadata": {
        "id": "eeuCwNmCi9tR"
      }
    },
    {
      "cell_type": "code",
      "execution_count": 1,
      "metadata": {
        "colab": {
          "base_uri": "https://localhost:8080/"
        },
        "id": "lqWbE3emgbOR",
        "outputId": "c436b006-6a58-4824-f932-4686d007a25d"
      },
      "outputs": [
        {
          "output_type": "stream",
          "name": "stdout",
          "text": [
            "W: Skipping acquire of configured file 'main/source/Sources' as repository 'https://r2u.stat.illinois.edu/ubuntu jammy InRelease' does not seem to provide it (sources.list entry misspelt?)\n",
            "Reading package lists... Done\n",
            "Building dependency tree... Done\n",
            "Reading state information... Done\n",
            "r-base is already the newest version (4.5.0-2.2204.0).\n",
            "0 upgraded, 0 newly installed, 0 to remove and 37 not upgraded.\n"
          ]
        }
      ],
      "source": [
        "!apt-get update -qq\n",
        "!apt-get install -y r-base\n",
        "!pip install -q rpy2\n"
      ]
    },
    {
      "cell_type": "markdown",
      "source": [
        "## Enable the R magic\n",
        "In the next cell, load the IPython extension so you can write R directly:"
      ],
      "metadata": {
        "id": "n9gCVTp7hJH5"
      }
    },
    {
      "cell_type": "markdown",
      "source": [],
      "metadata": {
        "id": "uzeFRaqYg1IB"
      }
    },
    {
      "cell_type": "code",
      "source": [],
      "metadata": {
        "id": "aI7XGghfitVH"
      },
      "execution_count": null,
      "outputs": []
    },
    {
      "cell_type": "code",
      "source": [
        "%load_ext rpy2.ipython"
      ],
      "metadata": {
        "id": "1V-6vNGFhhVV"
      },
      "execution_count": 2,
      "outputs": []
    },
    {
      "cell_type": "markdown",
      "source": [
        "## Run R code cells\n",
        "Now any cell that begins with %%R will be interpreted as R. For example:"
      ],
      "metadata": {
        "id": "Z8Q7E6fehpAq"
      }
    },
    {
      "cell_type": "code",
      "source": [
        "%%R\n",
        "# Basic R example\n",
        "x <- rnorm(100)\n",
        "summary(x)\n"
      ],
      "metadata": {
        "colab": {
          "base_uri": "https://localhost:8080/"
        },
        "id": "Nss8PFSDhZkG",
        "outputId": "cfa47473-da34-4cac-d5f7-bd82c0c3cb17"
      },
      "execution_count": 3,
      "outputs": [
        {
          "output_type": "stream",
          "name": "stdout",
          "text": [
            "   Min. 1st Qu.  Median    Mean 3rd Qu.    Max. \n",
            "-2.7768 -0.7521 -0.1058 -0.1697  0.3682  1.9751 \n"
          ]
        }
      ]
    },
    {
      "cell_type": "markdown",
      "source": [
        "## Install Packages\n",
        "\n",
        "Installing packages is quick and easy."
      ],
      "metadata": {
        "id": "fbC9vk8WjdxX"
      }
    },
    {
      "cell_type": "code",
      "source": [
        "%%R\n",
        "# Install and load packages\n",
        "install.packages(\"tidyverse\", repos=\"https://cloud.r-project.org\")\n",
        "library(tidyverse)\n"
      ],
      "metadata": {
        "colab": {
          "base_uri": "https://localhost:8080/",
          "height": 394
        },
        "id": "UgWwGawGh5GR",
        "outputId": "35a83b9f-1ff6-4b00-89a8-ebb424d78671"
      },
      "execution_count": 6,
      "outputs": [
        {
          "output_type": "stream",
          "name": "stdout",
          "text": [
            "── Attaching core tidyverse packages ──────────────────────── tidyverse 2.0.0 ──\n",
            "✔ dplyr     1.1.4     ✔ readr     2.1.5\n",
            "✔ forcats   1.0.0     ✔ stringr   1.5.1\n",
            "✔ ggplot2   3.5.2     ✔ tibble    3.2.1\n",
            "✔ lubridate 1.9.4     ✔ tidyr     1.3.1\n",
            "✔ purrr     1.0.4     \n",
            "── Conflicts ────────────────────────────────────────── tidyverse_conflicts() ──\n",
            "✖ dplyr::filter() masks stats::filter()\n",
            "✖ dplyr::lag()    masks stats::lag()\n",
            "ℹ Use the conflicted package (<http://conflicted.r-lib.org/>) to force all conflicts to become errors\n"
          ]
        },
        {
          "output_type": "display_data",
          "data": {
            "text/plain": [
              "Installing package into ‘/usr/local/lib/R/site-library’\n",
              "(as ‘lib’ is unspecified)\n",
              "trying URL 'https://cloud.r-project.org/src/contrib/tidyverse_2.0.0.tar.gz'\n",
              "Content type 'application/x-gzip' length 704618 bytes (688 KB)\n",
              "==================================================\n",
              "downloaded 688 KB\n",
              "\n",
              "\n",
              "The downloaded source packages are in\n",
              "\t‘/tmp/RtmpQsfvqS/downloaded_packages’\n"
            ]
          },
          "metadata": {}
        }
      ]
    },
    {
      "cell_type": "markdown",
      "source": [
        "## Pass data between Python and R\n",
        "You can send Python variables into R and bring results back. For example:\n",
        "\n"
      ],
      "metadata": {
        "id": "Z4ln5LjOh6f7"
      }
    },
    {
      "cell_type": "code",
      "source": [
        "import numpy as np\n",
        "data = np.random.randn(50)"
      ],
      "metadata": {
        "id": "gBsO6jZ5jqqw"
      },
      "execution_count": 7,
      "outputs": []
    },
    {
      "cell_type": "code",
      "source": [
        "%%R -i data -o mean_data\n",
        "# '-i data' imports the Python variable `data`\n",
        "# '-o mean_data' outputs the R variable `mean_data` to Python\n",
        "mean_data <- mean(data)\n"
      ],
      "metadata": {
        "id": "Q-1j7FLhjviI"
      },
      "execution_count": 11,
      "outputs": []
    },
    {
      "cell_type": "code",
      "source": [
        "print(\"Mean computed in R and output to Python:\", mean_data)"
      ],
      "metadata": {
        "colab": {
          "base_uri": "https://localhost:8080/"
        },
        "id": "ObGGDjrZj62J",
        "outputId": "820c8882-2de1-4f10-9884-295b05cca2cb"
      },
      "execution_count": 10,
      "outputs": [
        {
          "output_type": "stream",
          "name": "stdout",
          "text": [
            "Mean computed in R and output to Python: [0.11080092]\n"
          ]
        }
      ]
    },
    {
      "cell_type": "markdown",
      "source": [
        "## Alternative: Run pure R scripts in `bash`\n",
        "If you prefer a “bash + Rscript” approach, you can also do:"
      ],
      "metadata": {
        "id": "HkUlNHhUh427"
      }
    },
    {
      "cell_type": "code",
      "source": [
        "%%bash\n",
        "Rscript -e \"print(summary(rnorm(100)))\""
      ],
      "metadata": {
        "colab": {
          "base_uri": "https://localhost:8080/"
        },
        "id": "1jW9mD9gkeLe",
        "outputId": "e5859f48-fe62-4331-825f-d37cfaa573c7"
      },
      "execution_count": 12,
      "outputs": [
        {
          "output_type": "stream",
          "name": "stdout",
          "text": [
            "    Min.  1st Qu.   Median     Mean  3rd Qu.     Max. \n",
            "-3.09252 -0.61398  0.04701 -0.03456  0.55383  2.89603 \n"
          ]
        }
      ]
    },
    {
      "cell_type": "markdown",
      "source": [],
      "metadata": {
        "id": "jXvR_o-biEA_"
      }
    },
    {
      "cell_type": "code",
      "source": [],
      "metadata": {
        "id": "6kZvDqsMiDfd"
      },
      "execution_count": null,
      "outputs": []
    }
  ]
}