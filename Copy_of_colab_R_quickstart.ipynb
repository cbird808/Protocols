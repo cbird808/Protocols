{
  "nbformat": 4,
  "nbformat_minor": 0,
  "metadata": {
    "colab": {
      "provenance": [],
      "include_colab_link": true
    },
    "kernelspec": {
      "name": "python3",
      "display_name": "Python 3"
    },
    "language_info": {
      "name": "python"
    }
  },
  "cells": [
    {
      "cell_type": "markdown",
      "metadata": {
        "id": "view-in-github",
        "colab_type": "text"
      },
      "source": [
        "<a href=\"https://colab.research.google.com/github/cbird808/Protocols/blob/master/Copy_of_colab_R_quickstart.ipynb\" target=\"_parent\"><img src=\"https://colab.research.google.com/assets/colab-badge.svg\" alt=\"Open In Colab\"/></a>"
      ]
    },
    {
      "cell_type": "markdown",
      "source": [
        "# R in Google Colab Quick Start\n",
        "\n",
        "Here’s how you can get up and running with R inside a Google Colab notebook:\n",
        "\n",
        "---"
      ],
      "metadata": {
        "id": "OM9VVzUXhJ2e"
      }
    },
    {
      "cell_type": "markdown",
      "source": [
        "## Create a new Colab notebook\n",
        "\n",
        "Go to https://colab.research.google.com and click File → New notebook.\n",
        "\n",
        "---"
      ],
      "metadata": {
        "id": "MDS1j41QjGb5"
      }
    },
    {
      "cell_type": "markdown",
      "source": [
        "## Install R and the Python ↔ R bridge\n",
        "   In the first code cell, install R itself (via apt) and the rpy2 package (which provides the %%R magic):"
      ],
      "metadata": {
        "id": "eeuCwNmCi9tR"
      }
    },
    {
      "cell_type": "code",
      "execution_count": null,
      "metadata": {
        "colab": {
          "base_uri": "https://localhost:8080/"
        },
        "id": "lqWbE3emgbOR",
        "outputId": "9cf7c341-4a85-41ca-9c26-ebe035f51423"
      },
      "outputs": [
        {
          "output_type": "stream",
          "name": "stdout",
          "text": [
            "W: Skipping acquire of configured file 'main/source/Sources' as repository 'https://r2u.stat.illinois.edu/ubuntu jammy InRelease' does not seem to provide it (sources.list entry misspelt?)\n",
            "Reading package lists... Done\n",
            "Building dependency tree... Done\n",
            "Reading state information... Done\n",
            "r-base is already the newest version (4.5.0-2.2204.0).\n",
            "0 upgraded, 0 newly installed, 0 to remove and 37 not upgraded.\n"
          ]
        }
      ],
      "source": [
        "!apt-get update -qq\n",
        "!apt-get install -y r-base\n",
        "!pip install -q rpy2\n"
      ]
    },
    {
      "cell_type": "markdown",
      "source": [
        "---\n",
        "\n",
        "## Enable the R magic\n",
        "In the next cell, load the IPython extension so you can write R directly:"
      ],
      "metadata": {
        "id": "n9gCVTp7hJH5"
      }
    },
    {
      "cell_type": "markdown",
      "source": [],
      "metadata": {
        "id": "uzeFRaqYg1IB"
      }
    },
    {
      "cell_type": "code",
      "source": [
        "%load_ext rpy2.ipython"
      ],
      "metadata": {
        "id": "1V-6vNGFhhVV",
        "colab": {
          "base_uri": "https://localhost:8080/"
        },
        "outputId": "c61e1005-3190-4919-c55c-6a4465f03739"
      },
      "execution_count": null,
      "outputs": [
        {
          "output_type": "stream",
          "name": "stdout",
          "text": [
            "The rpy2.ipython extension is already loaded. To reload it, use:\n",
            "  %reload_ext rpy2.ipython\n"
          ]
        }
      ]
    },
    {
      "cell_type": "markdown",
      "source": [
        "---\n",
        "\n",
        "## Run R code cells\n",
        "Now any cell that begins with %%R will be interpreted as R. For example:"
      ],
      "metadata": {
        "id": "Z8Q7E6fehpAq"
      }
    },
    {
      "cell_type": "code",
      "source": [
        "%%R\n",
        "# Basic R example\n",
        "x <- rnorm(100)\n",
        "summary(x)\n"
      ],
      "metadata": {
        "colab": {
          "base_uri": "https://localhost:8080/"
        },
        "id": "Nss8PFSDhZkG",
        "outputId": "057d93c5-7d36-4bac-af18-cb42d30cfa0a"
      },
      "execution_count": null,
      "outputs": [
        {
          "output_type": "stream",
          "name": "stdout",
          "text": [
            "     Min.   1st Qu.    Median      Mean   3rd Qu.      Max. \n",
            "-2.854202 -0.717171  0.046773  0.003118  0.723251  2.629340 \n"
          ]
        }
      ]
    },
    {
      "cell_type": "markdown",
      "source": [
        "---\n",
        "\n",
        "## Install CRAN Packages\n",
        "\n",
        "Installing packages is quick and easy."
      ],
      "metadata": {
        "id": "fbC9vk8WjdxX"
      }
    },
    {
      "cell_type": "code",
      "source": [
        "%%R\n",
        "# Install and load packages\n",
        "install.packages(\"tidyverse\", repos=\"https://cloud.r-project.org\")\n",
        "library(tidyverse)\n"
      ],
      "metadata": {
        "colab": {
          "base_uri": "https://localhost:8080/",
          "height": 196
        },
        "id": "UgWwGawGh5GR",
        "outputId": "9803fda3-8e4f-4d2f-e9ba-fafd9be0cdec"
      },
      "execution_count": null,
      "outputs": [
        {
          "output_type": "display_data",
          "data": {
            "text/plain": [
              "Installing package into ‘/usr/local/lib/R/site-library’\n",
              "(as ‘lib’ is unspecified)\n",
              "trying URL 'https://cloud.r-project.org/src/contrib/tidyverse_2.0.0.tar.gz'\n",
              "Content type 'application/x-gzip' length 704618 bytes (688 KB)\n",
              "==================================================\n",
              "downloaded 688 KB\n",
              "\n",
              "\n",
              "The downloaded source packages are in\n",
              "\t‘/tmp/Rtmp213HUM/downloaded_packages’\n"
            ]
          },
          "metadata": {}
        }
      ]
    },
    {
      "cell_type": "code",
      "source": [
        "%%R\n",
        "# Install remotes\n",
        "install.packages(\"remotes\")\n",
        "library(remotes)"
      ],
      "metadata": {
        "id": "DKNNeIS-v9ON",
        "outputId": "236edffa-52c7-4d56-dce7-e24aec0662fd",
        "colab": {
          "base_uri": "https://localhost:8080/",
          "height": 196
        }
      },
      "execution_count": null,
      "outputs": [
        {
          "output_type": "display_data",
          "data": {
            "text/plain": [
              "Installing package into ‘/usr/local/lib/R/site-library’\n",
              "(as ‘lib’ is unspecified)\n",
              "trying URL 'https://cran.rstudio.com/src/contrib/remotes_2.5.0.tar.gz'\n",
              "Content type 'application/x-gzip' length 164496 bytes (160 KB)\n",
              "==================================================\n",
              "downloaded 160 KB\n",
              "\n",
              "\n",
              "The downloaded source packages are in\n",
              "\t‘/tmp/Rtmp213HUM/downloaded_packages’\n"
            ]
          },
          "metadata": {}
        }
      ]
    },
    {
      "cell_type": "markdown",
      "source": [
        "---\n",
        "\n",
        "## Install Packages from GitHub\n"
      ],
      "metadata": {
        "id": "RbVI43DtnW28"
      }
    },
    {
      "cell_type": "code",
      "source": [
        "%%R\n",
        "# Install remotes from CRAN first\n",
        "install.packages(\"remotes\")\n",
        "library(remotes)\n",
        "\n",
        "# Example: install the 'vegan' package directly from its GitHub repo\n",
        "remotes::install_github(\"vegandevs/vegan\")\n",
        "library(vegan)"
      ],
      "metadata": {
        "colab": {
          "base_uri": "https://localhost:8080/",
          "height": 231
        },
        "id": "tGX7Ehnum488",
        "outputId": "cb5284a6-aad8-4e69-e3ac-cff3e0e22aa4"
      },
      "execution_count": null,
      "outputs": [
        {
          "output_type": "display_data",
          "data": {
            "text/plain": [
              "Installing package into ‘/usr/local/lib/R/site-library’\n",
              "(as ‘lib’ is unspecified)\n",
              "trying URL 'https://cran.rstudio.com/src/contrib/remotes_2.5.0.tar.gz'\n",
              "Content type 'application/x-gzip' length 164496 bytes (160 KB)\n",
              "==================================================\n",
              "downloaded 160 KB\n",
              "\n",
              "\n",
              "The downloaded source packages are in\n",
              "\t‘/tmp/Rtmp213HUM/downloaded_packages’\n",
              "Skipping install of 'vegan' from a github remote, the SHA1 (1ef99e14) has not changed since last install.\n",
              "  Use `force = TRUE` to force installation\n"
            ]
          },
          "metadata": {}
        }
      ]
    },
    {
      "cell_type": "markdown",
      "source": [
        "---\n",
        "\n",
        "## Install Packages from Bioconductor"
      ],
      "metadata": {
        "id": "cbpaZct2nnRa"
      }
    },
    {
      "cell_type": "code",
      "source": [
        "%%R\n",
        "# Install BiocManager from CRAN first\n",
        "install.packages(\"BiocManager\", repos=\"https://cloud.r-project.org\")"
      ],
      "metadata": {
        "id": "cIUEXiZTvpSF",
        "outputId": "834238d6-6e1b-4560-847e-c9090e5b7df9",
        "colab": {
          "base_uri": "https://localhost:8080/",
          "height": 196
        }
      },
      "execution_count": null,
      "outputs": [
        {
          "output_type": "display_data",
          "data": {
            "text/plain": [
              "Installing package into ‘/usr/local/lib/R/site-library’\n",
              "(as ‘lib’ is unspecified)\n",
              "trying URL 'https://cloud.r-project.org/src/contrib/BiocManager_1.30.25.tar.gz'\n",
              "Content type 'application/x-gzip' length 593414 bytes (579 KB)\n",
              "==================================================\n",
              "downloaded 579 KB\n",
              "\n",
              "\n",
              "The downloaded source packages are in\n",
              "\t‘/tmp/Rtmp213HUM/downloaded_packages’\n"
            ]
          },
          "metadata": {}
        }
      ]
    },
    {
      "cell_type": "code",
      "source": [
        "%%R\n",
        "# after initiating, wait for the prompt below, Update all/some/none? [a/s/n]:\n",
        "BiocManager::install(\"Biostrings\")\n",
        "library(Biostrings)"
      ],
      "metadata": {
        "id": "HlvH05ijuRS4",
        "outputId": "f187b1a8-2792-48b8-f528-565ca4357b51",
        "colab": {
          "base_uri": "https://localhost:8080/",
          "height": 160
        }
      },
      "execution_count": null,
      "outputs": [
        {
          "output_type": "display_data",
          "data": {
            "text/plain": [
              "'getOption(\"repos\")' replaces Bioconductor standard repositories, see\n",
              "'help(\"repositories\", package = \"BiocManager\")' for details.\n",
              "Replacement repositories:\n",
              "    CRAN: https://cran.rstudio.com\n",
              "Bioconductor version 3.21 (BiocManager 1.30.25), R 4.5.0 (2025-04-11)\n",
              "In addition: Warning message:\n",
              "package(s) not installed when version(s) same as or greater than current; use\n",
              "  `force = TRUE` to re-install: 'Biostrings' \n"
            ]
          },
          "metadata": {}
        }
      ]
    },
    {
      "cell_type": "markdown",
      "source": [
        "---\n",
        "\n",
        "## Pass data between Python and R\n",
        "You can send Python variables into R and bring results back. For example:\n",
        "\n"
      ],
      "metadata": {
        "id": "Z4ln5LjOh6f7"
      }
    },
    {
      "cell_type": "code",
      "source": [
        "import numpy as np\n",
        "data = np.random.randn(50)"
      ],
      "metadata": {
        "id": "gBsO6jZ5jqqw"
      },
      "execution_count": null,
      "outputs": []
    },
    {
      "cell_type": "code",
      "source": [
        "%%R -i data -o mean_data\n",
        "# '-i data' imports the Python variable `data`\n",
        "# '-o mean_data' outputs the R variable `mean_data` to Python\n",
        "mean_data <- mean(data)\n"
      ],
      "metadata": {
        "id": "Q-1j7FLhjviI"
      },
      "execution_count": null,
      "outputs": []
    },
    {
      "cell_type": "code",
      "source": [
        "print(\"Mean computed in R and output to Python:\", mean_data)"
      ],
      "metadata": {
        "colab": {
          "base_uri": "https://localhost:8080/"
        },
        "id": "ObGGDjrZj62J",
        "outputId": "1e0ea853-0311-4b82-94e8-04a096d4c45f"
      },
      "execution_count": null,
      "outputs": [
        {
          "output_type": "stream",
          "name": "stdout",
          "text": [
            "Mean computed in R and output to Python: [-0.09641518]\n"
          ]
        }
      ]
    },
    {
      "cell_type": "markdown",
      "source": [
        "---\n",
        "\n",
        "## Alternative: Run pure R scripts in `bash`\n",
        "If you prefer a “bash + Rscript” approach, you can also do:"
      ],
      "metadata": {
        "id": "HkUlNHhUh427"
      }
    },
    {
      "cell_type": "code",
      "source": [
        "%%bash\n",
        "Rscript -e \"print(summary(rnorm(100)))\""
      ],
      "metadata": {
        "colab": {
          "base_uri": "https://localhost:8080/"
        },
        "id": "1jW9mD9gkeLe",
        "outputId": "cea94ccf-f358-43c9-f12a-5b013ce5e4d6"
      },
      "execution_count": null,
      "outputs": [
        {
          "output_type": "stream",
          "name": "stdout",
          "text": [
            "    Min.  1st Qu.   Median     Mean  3rd Qu.     Max. \n",
            "-2.04305 -0.81976 -0.01719  0.04055  0.79888  2.85697 \n"
          ]
        }
      ]
    },
    {
      "cell_type": "markdown",
      "source": [],
      "metadata": {
        "id": "jXvR_o-biEA_"
      }
    },
    {
      "cell_type": "markdown",
      "source": [
        "## Plotting"
      ],
      "metadata": {
        "id": "-06Nt3B0yRq7"
      }
    },
    {
      "cell_type": "code",
      "source": [
        "%%R\n",
        "# tidyverse was installed an loaded above\n",
        "\n",
        "# Quick scatterplot of engine displacement vs highway mpg, colored by vehicle class\n",
        "ggplot(mpg, aes(x = displ, y = hwy, color = class)) +\n",
        "  geom_point(size = 2) +\n",
        "  labs(\n",
        "    title = \"Engine Displacement vs. Highway MPG\",\n",
        "    subtitle = \"Data from ggplot2::mpg\",\n",
        "    x = \"Displacement (liters)\",\n",
        "    y = \"Highway MPG\",\n",
        "    color = \"Vehicle Class\"\n",
        "  ) +\n",
        "  theme_minimal()\n"
      ],
      "metadata": {
        "id": "6kZvDqsMiDfd",
        "outputId": "87a3c2e0-89db-4598-ee36-1618a4e261bc",
        "colab": {
          "base_uri": "https://localhost:8080/",
          "height": 497
        }
      },
      "execution_count": null,
      "outputs": [
        {
          "output_type": "display_data",
          "data": {
            "image/png": "[encoded data removed]",
            "text/plain": [
              "<IPython.core.display.Image object>"
            ]
          },
          "metadata": {}
        }
      ]
    }
  ]
}